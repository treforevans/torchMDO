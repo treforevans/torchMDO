{
 "cells": [
  {
   "cell_type": "code",
   "execution_count": 1,
   "id": "69483255",
   "metadata": {},
   "outputs": [],
   "source": [
    "import torchmdao\n",
    "import torch\n",
    "import matplotlib.pyplot as plt\n",
    "from pdb import set_trace\n",
    "%matplotlib inline"
   ]
  },
  {
   "cell_type": "markdown",
   "id": "456548fa",
   "metadata": {},
   "source": [
    "Define an object to define a wing and to compute its induced drag.\n",
    "We will initialize as a square wing."
   ]
  },
  {
   "cell_type": "code",
   "execution_count": 2,
   "id": "859003a1",
   "metadata": {},
   "outputs": [],
   "source": [
    "class Wing(torchmdao.ComputeObject):\n",
    "    def __init__(self):\n",
    "        self.half_span = 5.0 # 10 m span\n",
    "        # establish a computational grid (using the lifting line change of variables)\n",
    "        self.spanwise_loc = -self.half_span * torch.cos(torch.linspace(torch.pi / 2, torch.pi, 51))\n",
    "        self.section_lengths = torch.diff(self.spanwise_loc)\n",
    "        self.spanwise_loc = self.spanwise_loc[1:] # remove the root node\n",
    "        # initialize the chords variable which we will optimize\n",
    "        self.chords =  1.0 * torch.ones_like(self.spanwise_loc) # initially 1 m constant chord\n",
    "        # specify that the airfoil gives zero lift at -3deg and that it is untwisted\n",
    "        self.alpha_sections = torch.zeros_like(self.spanwise_loc)\n",
    "        self.alpha_0s = torch.deg2rad(-3.0*torch.ones_like(self.spanwise_loc))\n",
    "        # specify a target Cl\n",
    "        self.Cl_target = torch.as_tensor(0.5)\n",
    "        \n",
    "    def compute(self):\n",
    "        \"\"\" compute the induced drag coefficient for the wing. \"\"\"\n",
    "        # compute the wing area for the full wing (both halves)\n",
    "        assert torch.abs(self.section_lengths.sum() - self.half_span) < 1e-6\n",
    "        self.wing_area = torch.sum(self.section_lengths * self.chords)\n",
    "        # compute the aspect ratio\n",
    "        self.AR = (2*self.half_span)**2/self.wing_area\n",
    "        # compute the induced drag coefficient and span efficiency factor\n",
    "        wing = torchmdao.lifting_line.LiftingLineWing(\n",
    "            self.spanwise_loc, self.chords, self.alpha_sections, self.alpha_0s, self.AR\n",
    "        )\n",
    "        wing.solve(Cl=self.Cl_target)\n",
    "        self.Cd = wing.induced_drag_coeff()\n",
    "        self.span_efficiency_factor = wing.span_efficiency_factor\n",
    "        self.neg_span_efficiency_factor = -self.span_efficiency_factor\n",
    "        \n",
    "    def plot(self):\n",
    "        \"\"\" plot the wing. \"\"\"\n",
    "        plt.figure(figsize=(8,3))\n",
    "        plt.title(\"Wing planview\")\n",
    "        x = torch.cat([self.spanwise_loc, torch.flip(self.spanwise_loc, (0,))])\n",
    "        y = torch.cat([0.5*self.chords, -0.5*torch.flip(self.chords, (0,))])\n",
    "        plt.fill_between(x, y.detach(), color='k')\n",
    "        plt.xlabel(\"Spanwise position (m)\")\n",
    "        plt.axis('equal')"
   ]
  },
  {
   "cell_type": "markdown",
   "id": "cb6dc2ce",
   "metadata": {},
   "source": [
    "Optimize the chord distribution subject to a span equality constraint (which is a linear constraint given the parameterization)."
   ]
  },
  {
   "cell_type": "code",
   "execution_count": 3,
   "id": "7b908f82",
   "metadata": {
    "scrolled": false
   },
   "outputs": [
    {
     "name": "stdout",
     "output_type": "stream",
     "text": [
      "[ 16:59:06 ] INFO: Initial objective: -0.921.\n",
      "[ 16:59:06 ] INFO: Beginning optimization.\n",
      "[ 16:59:06 ] INFO: niter: 0001, fun: -0.9208, constr_violation: 1, execution_time: 0.0s\n",
      "[ 16:59:07 ] INFO: niter: 0010, fun: -0.9641, constr_violation: 0, execution_time: 1.0s\n",
      "[ 16:59:08 ] INFO: niter: 0020, fun: -0.9904, constr_violation: 0, execution_time: 1.3s\n",
      "[ 16:59:09 ] INFO: niter: 0030, fun: -0.9954, constr_violation: 4.44e-16, execution_time: 3.0s\n",
      "[ 16:59:11 ] INFO: niter: 0040, fun: -0.9960, constr_violation: 4.44e-16, execution_time: 4.2s\n",
      "[ 16:59:11 ] INFO: niter: 0050, fun: -0.9986, constr_violation: 8.88e-16, execution_time: 4.7s\n",
      "[ 16:59:12 ] INFO: niter: 0060, fun: -0.9991, constr_violation: 0, execution_time: 5.5s\n",
      "[ 16:59:13 ] INFO: niter: 0070, fun: -0.9993, constr_violation: 4.44e-16, execution_time: 6.1s\n",
      "[ 16:59:15 ] INFO: niter: 0080, fun: -0.9994, constr_violation: 8.88e-16, execution_time: 8.3s\n",
      "[ 16:59:17 ] INFO: niter: 0090, fun: -0.9995, constr_violation: 8.88e-16, execution_time: 10.8s\n",
      "[ 16:59:19 ] INFO: niter: 0100, fun: -0.9998, constr_violation: 0, execution_time: 12.5s\n",
      "[ 16:59:19 ] INFO: Optimization completed.\n",
      "[ 16:59:19 ] INFO: Function Evals: 101. Exit status: 0. Objective: -0.9998. Constraint Violation: 0\n",
      "[ 16:59:19 ] INFO: Execution time: 12.5s\n",
      "The maximum number of function evaluations is exceeded.\n"
     ]
    },
    {
     "data": {
      "image/png": "[encoded data removed]",
      "text/plain": [
       "<Figure size 576x216 with 1 Axes>"
      ]
     },
     "metadata": {
      "needs_background": "light"
     },
     "output_type": "display_data"
    }
   ],
   "source": [
    "wing = Wing()\n",
    "optimizer = torchmdao.Optimizer(\n",
    "    initial_design_variables=[torchmdao.DesignVariable(name=\"chords\", lower=0., upper=2.)],\n",
    "    compute_object=wing,\n",
    "    outputs=[\n",
    "        torchmdao.Output(name=\"neg_span_efficiency_factor\"),\n",
    "        torchmdao.Output(name=\"wing_area\", lower=4.0, upper=4.0, linear=True),\n",
    "    ],\n",
    "    objective_index=0,\n",
    ")\n",
    "optimizer.optimize(maxiter=100, display_step=10)\n",
    "wing.plot()"
   ]
  },
  {
   "cell_type": "markdown",
   "id": "fe47ad1f",
   "metadata": {},
   "source": [
    "TODO:\n",
    "- [ ] figure out what's happening at the tip\n",
    "- [ ] generate a gif of the optimization procedure\n",
    "- [ ] plot a figure with the spanwise sectional lift coefficient and lift distribution\n",
    "- [ ] compare the performance when the analytical gradients are turned off so that finite differencing must be used."
   ]
  }
 ],
 "metadata": {
  "kernelspec": {
   "display_name": "Python 3 (ipykernel)",
   "language": "python",
   "name": "python3"
  },
  "language_info": {
   "codemirror_mode": {
    "name": "ipython",
    "version": 3
   },
   "file_extension": ".py",
   "mimetype": "text/x-python",
   "name": "python",
   "nbconvert_exporter": "python",
   "pygments_lexer": "ipython3",
   "version": "3.9.12"
  }
 },
 "nbformat": 4,
 "nbformat_minor": 5
}
